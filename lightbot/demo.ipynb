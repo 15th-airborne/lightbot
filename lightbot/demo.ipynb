{
 "cells": [
  {
   "cell_type": "code",
   "execution_count": 1,
   "metadata": {},
   "outputs": [
    {
     "name": "stdout",
     "output_type": "stream",
     "text": [
      "[CQ:at,qq=435786117]当前状态: \n",
      "生命: 200/200 体力: 20/20\n",
      "攻击: 45/90\n",
      "闪避\\反击: 15.0%/5.0%\n",
      "命中\\暴击: 5.0%/10.0%\n",
      "击杀\\阵亡: 0/4\n",
      "黄金: 1228\n",
      "可用属性点: 2\n",
      "\n"
     ]
    }
   ],
   "source": [
    "from plugins.battle.models import Player, get_player, sign_reply\n",
    "player = get_player(user_id=435786117, group_id=542423773)\n",
    "print(player.status())"
   ]
  },
  {
   "cell_type": "code",
   "execution_count": 20,
   "metadata": {},
   "outputs": [],
   "source": [
    "def fix_level():\n",
    "    \"\"\" 根据签到次数重置玩家等级 \"\"\"\n",
    "    query = Player.select()\n",
    "    for player in query:\n",
    "        player.level = 1\n",
    "        player.level_up_exp = 100\n",
    "        player.get_exp(player.num_sign * 100)\n",
    "        player.save()"
   ]
  },
  {
   "cell_type": "code",
   "execution_count": 2,
   "metadata": {},
   "outputs": [],
   "source": [
    "def set_supply_gold(gold):\n",
    "    \"\"\" 发放补偿 \"\"\"\n",
    "    Player.update({Player.supply_gold: Player.supply_gold+gold}).execute()"
   ]
  },
  {
   "cell_type": "code",
   "execution_count": 6,
   "metadata": {},
   "outputs": [],
   "source": [
    "# 发放1000g的补偿\n",
    "# set_supply_gold(1000)"
   ]
  },
  {
   "cell_type": "code",
   "execution_count": 2,
   "metadata": {},
   "outputs": [
    {
     "data": {
      "text/plain": [
       "'今天已经签到过了!'"
      ]
     },
     "execution_count": 2,
     "metadata": {},
     "output_type": "execute_result"
    }
   ],
   "source": [
    "from plugins.battle.models import sign_reply\n",
    "\n",
    "sign_reply(user_id=435786117, group_id=542423773)"
   ]
  },
  {
   "cell_type": "code",
   "execution_count": 5,
   "metadata": {},
   "outputs": [],
   "source": [
    "p = get_player(user_id=435786117, group_id=542423773)"
   ]
  },
  {
   "cell_type": "code",
   "execution_count": 10,
   "metadata": {},
   "outputs": [
    {
     "name": "stdout",
     "output_type": "stream",
     "text": [
      "[CQ:at,qq=435786117]当前状态: \n",
      "生命: 250/250 体力: 20/20\n",
      "攻击: 40/80\n",
      "闪避\\反击: 10.0%/5.0%\n",
      "命中\\暴击: 5.0%/10.0%\n",
      "击杀\\阵亡: 0/1\n",
      "黄金: 628\n",
      "可用属性点: 2\n",
      "\n"
     ]
    }
   ],
   "source": [
    "print(p.status())"
   ]
  },
  {
   "cell_type": "code",
   "execution_count": 11,
   "metadata": {},
   "outputs": [],
   "source": [
    "from utils import cq"
   ]
  },
  {
   "cell_type": "markdown",
   "metadata": {},
   "source": [
    "### attack test"
   ]
  },
  {
   "cell_type": "code",
   "execution_count": 5,
   "metadata": {},
   "outputs": [],
   "source": [
    "event={\n",
    "    'group_id': 542423773,\n",
    "    'message': '揍[CQ:at,qq=323566263]',\n",
    "    'sender': {\n",
    "        'user_id': 435786117,\n",
    "        'nickname': 'LightL'\n",
    "    }\n",
    "}"
   ]
  },
  {
   "cell_type": "code",
   "execution_count": 6,
   "metadata": {},
   "outputs": [],
   "source": [
    "from plugins.battle import AttackSomeonePlugin\n",
    "plugin = AttackSomeonePlugin(event)"
   ]
  },
  {
   "cell_type": "code",
   "execution_count": 7,
   "metadata": {},
   "outputs": [
    {
     "name": "stdout",
     "output_type": "stream",
     "text": [
      "[CQ:at,qq=435786117]已经挂了。\n",
      "18:29:23复活。\n"
     ]
    }
   ],
   "source": [
    "print(plugin.get_reply())"
   ]
  },
  {
   "cell_type": "markdown",
   "metadata": {},
   "source": [
    "### test check attr"
   ]
  },
  {
   "cell_type": "code",
   "execution_count": 3,
   "metadata": {},
   "outputs": [],
   "source": [
    "from plugins.battle import CheckAttributePlugin\n",
    "event={\n",
    "    'group_id': 542423773,\n",
    "    'message': '属性',\n",
    "    'sender': {\n",
    "        'user_id': 435786117,\n",
    "        'nickname': 'LightL'\n",
    "    }\n",
    "}\n",
    "plugin = CheckAttributePlugin(event)"
   ]
  },
  {
   "cell_type": "code",
   "execution_count": 4,
   "metadata": {},
   "outputs": [
    {
     "name": "stdout",
     "output_type": "stream",
     "text": [
      "[CQ:at,qq=435786117]当前属性: \n",
      "等级:6\n",
      "总属性/可用属性:12/0\n",
      "最大生命值(10): 250\n",
      "基础伤害(2): 42\n",
      "小伤加成(0.0%): 42\n",
      "大伤加成(0.0%): 84\n",
      "闪避(0): 10.0%\n",
      "反击(0): 5.0%\n",
      "命中(0): 5.0%\n",
      "暴击(0): 10.0%\n",
      "\n"
     ]
    }
   ],
   "source": [
    "print(plugin.get_reply())"
   ]
  },
  {
   "cell_type": "markdown",
   "metadata": {},
   "source": [
    "### test add attr"
   ]
  },
  {
   "cell_type": "code",
   "execution_count": 5,
   "metadata": {},
   "outputs": [],
   "source": [
    "from plugins.battle import AddAttributePlugin\n",
    "\n",
    "event={\n",
    "    'group_id': 542423773,\n",
    "    'message': '加反击 -19',\n",
    "    'sender': {\n",
    "        'user_id': 435786117,\n",
    "        'nickname': 'LightL'\n",
    "    }\n",
    "}\n",
    "plugin = AddAttributePlugin(event)"
   ]
  },
  {
   "cell_type": "code",
   "execution_count": 7,
   "metadata": {},
   "outputs": [
    {
     "name": "stdout",
     "output_type": "stream",
     "text": [
      "\n"
     ]
    }
   ],
   "source": [
    "print(plugin.get_reply())"
   ]
  },
  {
   "cell_type": "code",
   "execution_count": 8,
   "metadata": {},
   "outputs": [
    {
     "name": "stdout",
     "output_type": "stream",
     "text": [
      "[CQ:at,qq=435786117]当前状态: \n",
      "阵亡中...(18:29:23复活)\n",
      "生命: 0/200 体力: 20/20\n",
      "攻击: 44/88\n",
      "闪避\\反击: 12.0%/9.0%\n",
      "命中\\暴击: 5.0%/12.0%\n",
      "击杀\\阵亡: 0/4\n",
      "黄金: 628\n",
      "可用属性点: 0\n",
      "\n"
     ]
    }
   ],
   "source": [
    "player = get_player(user_id=435786117, group_id=542423773)\n",
    "print(player.status())"
   ]
  },
  {
   "cell_type": "markdown",
   "metadata": {},
   "source": [
    "## test shop"
   ]
  },
  {
   "cell_type": "code",
   "execution_count": 1,
   "metadata": {},
   "outputs": [],
   "source": [
    "from plugins.battle.models import show_market"
   ]
  },
  {
   "cell_type": "code",
   "execution_count": 2,
   "metadata": {},
   "outputs": [
    {
     "name": "stdout",
     "output_type": "stream",
     "text": [
      "食物:\n",
      "-------\n",
      "Q1面包: 体力+1 (5g)\n",
      "Q5面包: 体力+5 (50g)\n",
      "武器:\n",
      "-------\n",
      "Q1枪: 伤害+10.0% (5g)\n",
      "Q5枪: 伤害+50.0% (50g)\n",
      "其他:\n",
      "-------\n",
      "活: 立即复活 (200g)\n",
      "洗点: 属性归零 (200g)\n",
      "输入: 买Q1枪 <数量>\n",
      "即可购买，不写数量默认买1个\n",
      "\n"
     ]
    }
   ],
   "source": [
    "print(show_market())"
   ]
  },
  {
   "cell_type": "code",
   "execution_count": 2,
   "metadata": {},
   "outputs": [],
   "source": [
    "from plugins.battle import BuyPlugin\n",
    "\n",
    "event={\n",
    "    'group_id': 542423773,\n",
    "    'message': '买洗点',\n",
    "    'sender': {\n",
    "        'user_id': 435786117,\n",
    "        'nickname': 'LightL'\n",
    "    }\n",
    "}\n",
    "plugin = BuyPlugin(event)"
   ]
  },
  {
   "cell_type": "code",
   "execution_count": 5,
   "metadata": {},
   "outputs": [
    {
     "name": "stdout",
     "output_type": "stream",
     "text": [
      "黄金: 1228 (-200)\n",
      "洗点成功，可用属性:12\n"
     ]
    }
   ],
   "source": [
    "print(plugin.get_reply())"
   ]
  },
  {
   "cell_type": "code",
   "execution_count": 6,
   "metadata": {},
   "outputs": [
    {
     "name": "stdout",
     "output_type": "stream",
     "text": [
      "[CQ:at,qq=435786117]当前状态: \n",
      "生命: 200/200 体力: 20/20\n",
      "攻击: 40/80\n",
      "闪避\\反击: 10.0%/5.0%\n",
      "命中\\暴击: 5.0%/10.0%\n",
      "击杀\\阵亡: 0/4\n",
      "黄金: 1228\n",
      "可用属性点: 12\n",
      "\n"
     ]
    }
   ],
   "source": [
    "player = get_player(user_id=435786117, group_id=542423773)\n",
    "print(player.status())"
   ]
  },
  {
   "cell_type": "markdown",
   "metadata": {},
   "source": [
    "### test supply"
   ]
  },
  {
   "cell_type": "code",
   "execution_count": 1,
   "metadata": {},
   "outputs": [],
   "source": [
    "from plugins.battle import SupplyPlugin\n",
    "\n",
    "event={\n",
    "    'group_id': 542423773,\n",
    "    'message': '补偿',\n",
    "    'sender': {\n",
    "        'user_id': 435786117,\n",
    "        'nickname': 'LightL'\n",
    "    }\n",
    "}\n",
    "plugin = SupplyPlugin(event)"
   ]
  },
  {
   "cell_type": "code",
   "execution_count": 4,
   "metadata": {},
   "outputs": [
    {
     "name": "stdout",
     "output_type": "stream",
     "text": [
      "你的补偿已经领取完了！\n"
     ]
    }
   ],
   "source": [
    "print(plugin.get_reply())"
   ]
  },
  {
   "cell_type": "code",
   "execution_count": 1,
   "metadata": {},
   "outputs": [],
   "source": [
    "from plugins.teacher.models import QuestionAnswer"
   ]
  },
  {
   "cell_type": "code",
   "execution_count": 2,
   "metadata": {},
   "outputs": [],
   "source": [
    "p = QuestionAnswer.replace(question='测试的', answer='测试的2')"
   ]
  },
  {
   "cell_type": "code",
   "execution_count": 14,
   "metadata": {},
   "outputs": [],
   "source": [
    "a = QuestionAnswer.update(delete=True)\\\n",
    "    .where(\n",
    "        QuestionAnswer.question=='测试的',\n",
    "        QuestionAnswer.answer=='测试的2',\n",
    "    ).execute()"
   ]
  },
  {
   "cell_type": "code",
   "execution_count": 1,
   "metadata": {},
   "outputs": [],
   "source": [
    "from plugins.teacher import ForgetPlugin"
   ]
  },
  {
   "cell_type": "code",
   "execution_count": 5,
   "metadata": {},
   "outputs": [
    {
     "name": "stdout",
     "output_type": "stream",
     "text": [
      "我没学过！\n"
     ]
    }
   ],
   "source": [
    "event={\n",
    "    'group_id': 542423773,\n",
    "    'message': '忘记 123 123',\n",
    "    'sender': {\n",
    "        'user_id': 435786117,\n",
    "        'nickname': 'LightL'\n",
    "    }\n",
    "}\n",
    "\n",
    "plugin = ForgetPlugin(event)\n",
    "print(plugin.get_reply())"
   ]
  },
  {
   "cell_type": "code",
   "execution_count": null,
   "metadata": {},
   "outputs": [],
   "source": []
  }
 ],
 "metadata": {
  "interpreter": {
   "hash": "2ba574579442ea0b537d5978979f54d138fc07f68d6640da904ab4959aec5602"
  },
  "kernelspec": {
   "display_name": "Python 3.9.7 ('lightbot')",
   "language": "python",
   "name": "python3"
  },
  "language_info": {
   "codemirror_mode": {
    "name": "ipython",
    "version": 3
   },
   "file_extension": ".py",
   "mimetype": "text/x-python",
   "name": "python",
   "nbconvert_exporter": "python",
   "pygments_lexer": "ipython3",
   "version": "3.9.7"
  },
  "orig_nbformat": 4
 },
 "nbformat": 4,
 "nbformat_minor": 2
}
